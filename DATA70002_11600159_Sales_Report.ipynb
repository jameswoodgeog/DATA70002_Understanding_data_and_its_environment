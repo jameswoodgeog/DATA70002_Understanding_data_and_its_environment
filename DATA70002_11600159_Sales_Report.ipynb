{
  "cells": [
    {
      "cell_type": "raw",
      "metadata": {},
      "source": [
        "---\n",
        "title: \"Sales forecasting for the European drug store Rossman\"\n",
        "# Set the formatting options\n",
        "format:\n",
        "  pdf:\n",
        "    pdf-engine: xelatex\n",
        "# Include a Table Of Contents\n",
        "    toc: true\n",
        "# Include a List Of Figures\n",
        "    lof: false\n",
        "# Include a List Of Tables\n",
        "    lot: false\n",
        "# Number each headed section\n",
        "    number-sections: true\n",
        "# Set the main font size and font\n",
        "    fontsize: 11pt\n",
        "    mainfont: Calibri\n",
        "# Adjust the borders to decrease or increase the useable page space\n",
        "    geometry:\n",
        "      - top = 15mm\n",
        "      - bottom = 20mm\n",
        "      - left = 20mm\n",
        "      - right = 20mm\n",
        "# Adjust the headers and footers\n",
        "    header-includes:\n",
        "# Set the packages to be used by LaTex\n",
        "      - \\usepackage{placeins}\n",
        "      - \\usepackage{fancyhdr}\n",
        "      - \\usepackage{lastpage}\n",
        "#  Set the style and what goes in the header and footer of the main and all other pages.\n",
        "      - \\pagestyle{fancy}\n",
        "      - \\thispagestyle{fancy}\n",
        "      - \\fancyhead[R]{Student ID| 11600159}\n",
        "      - \\fancyhead[L]{DATA70002 | Understanding Data and its Environment}\n",
        "      - \\renewcommand{\\headrulewidth}{0.02pt}\n",
        "      - \\fancypagestyle{plain}{\\fancyhead[R]{Student ID| 11600159}\\fancyhead[L]{DATA70002 | Understanding Data and its Environment}\\fancyfoot[C]{Page \\thepage\\ of \\pageref{LastPage}}}\n",
        "# Set the page number to be \"Page n of np\"\n",
        "      - \\fancyfoot[C]{Page \\thepage\\ of \\pageref{LastPage}}\n",
        "\n",
        "# CSL and bibliography file to be used\n",
        "bibliography: DATA70002_refs.bib\n",
        "csl: \"UoL_Harvard.csl\"\n",
        "---"
      ],
      "id": "eb29dd38"
    },
    {
      "cell_type": "markdown",
      "metadata": {},
      "source": [
        "```{=html}\n",
        "<style>\n",
        "figcaption {\n",
        "    text-align: center;\n",
        "}\n",
        "</style>\n",
        "```\n",
        "\n",
        "\\newpage\n",
        "\n",
        "# Introduction\n",
        "\n",
        "# Methodology\n",
        "\n",
        "Review the available data and describe it in terms of its variables, quality, and relevance to the sales forecasting\n"
      ],
      "id": "b503b2f1"
    },
    {
      "cell_type": "code",
      "metadata": {},
      "source": [
        "# import any packages that are required\n",
        "import pandas as pd\n",
        "import seaborn as sns\n"
      ],
      "id": "5142f3e0",
      "execution_count": null,
      "outputs": []
    },
    {
      "cell_type": "markdown",
      "metadata": {},
      "source": [
        "Link data sets together as appropriate\n",
        "\n",
        "Pre-process the data as appropriate for further analytics, for example, you may want to encode any categorical data, create new variables, identify how many missing values there are and deal with them appropriately, etc.\n",
        "\n",
        "Identify the key factors affecting sales, for example, you may want to check whether competition and promotions have an impact on sales, and how public holidays cause sales fluctuations.\n",
        "\n",
        "Build a forecasting model (which can be a linear regression model, a neural network model or something else) using the variables you identified. Please make sure to justify the choice of your modelling approach.\n",
        "\n",
        "Use the Root Mean Square Percentage Error (RMSPE) to forecast accuracy\n",
        "\n",
        "# Results\n",
        "\n",
        "Interpret key results, assumptions and limitations of your analysis.\n",
        "\n",
        "# Conclusion\n",
        "\n",
        "## Limitations\n",
        "\n",
        "## Implications\n",
        "\n",
        "## Recommendations\n",
        "\n",
        "# References"
      ],
      "id": "f6866712"
    }
  ],
  "metadata": {
    "kernelspec": {
      "name": "python3",
      "language": "python",
      "display_name": "Python 3 (ipykernel)"
    }
  },
  "nbformat": 4,
  "nbformat_minor": 5
}